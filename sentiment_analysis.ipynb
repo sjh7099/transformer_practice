{
 "cells": [
  {
   "cell_type": "markdown",
   "id": "11091fbc",
   "metadata": {},
   "source": [
    "### 링크\n",
    "https://suwani.tistory.com/160"
   ]
  },
  {
   "cell_type": "code",
   "execution_count": null,
   "id": "400a2e4c",
   "metadata": {},
   "outputs": [],
   "source": [
    "!pip torch torchvision torchaudio"
   ]
  },
  {
   "cell_type": "code",
   "execution_count": null,
   "id": "9bc766b1",
   "metadata": {},
   "outputs": [
    {
     "name": "stdout",
     "output_type": "stream",
     "text": [
      "True\n"
     ]
    }
   ],
   "source": [
    "import torch\n",
    "\n",
    "print(torch.backends.mps.is_available())"
   ]
  },
  {
   "cell_type": "code",
   "execution_count": null,
   "id": "e7e064bb",
   "metadata": {},
   "outputs": [],
   "source": [
    "# 필수 라이브러리 설치\n",
    "!pip install -U transformer datasets accelerate evaluate sentencepiece\n",
    "\n",
    "# transformer : 허깅페이스 모델 및 Trainer\n",
    "# datasets : 허깅페이스 데이터셋 로딩\n",
    "# accelerate : GPU/CPU 자동 최적화\n",
    "# evaluate : 정확도, F1 등 계산\n",
    "# sentencepiece : 한국어 모델용 토크나이저 지원"
   ]
  },
  {
   "cell_type": "markdown",
   "id": "50716451",
   "metadata": {},
   "source": [
    "## 데이터셋 준비하기"
   ]
  },
  {
   "cell_type": "code",
   "execution_count": 1,
   "id": "1b066c61",
   "metadata": {},
   "outputs": [
    {
     "name": "stderr",
     "output_type": "stream",
     "text": [
      "/opt/anaconda3/envs/tfm/lib/python3.13/site-packages/tqdm/auto.py:21: TqdmWarning: IProgress not found. Please update jupyter and ipywidgets. See https://ipywidgets.readthedocs.io/en/stable/user_install.html\n",
      "  from .autonotebook import tqdm as notebook_tqdm\n",
      "Generating train split: 100%|██████████| 16000/16000 [00:00<00:00, 1109659.28 examples/s]\n",
      "Generating validation split: 100%|██████████| 2000/2000 [00:00<00:00, 606595.42 examples/s]\n",
      "Generating test split: 100%|██████████| 2000/2000 [00:00<00:00, 746782.52 examples/s]\n"
     ]
    },
    {
     "data": {
      "text/plain": [
       "ClassLabel(names=['sadness', 'joy', 'love', 'anger', 'fear', 'surprise'])"
      ]
     },
     "execution_count": 1,
     "metadata": {},
     "output_type": "execute_result"
    }
   ],
   "source": [
    "from datasets import load_dataset\n",
    "\n",
    "emotions = load_dataset(\"emotion\")\n",
    "emotions[\"train\"].features[\"label\"]\n",
    "# 출력: ClassLabel(num_classes=6, names=['sadness', 'joy', 'love', 'anger', 'fear', 'surprise'], id=None)"
   ]
  },
  {
   "cell_type": "markdown",
   "id": "05380c6b",
   "metadata": {},
   "source": [
    "## 사전 훈련된 모델 사용"
   ]
  },
  {
   "cell_type": "markdown",
   "id": "15fdba63",
   "metadata": {},
   "source": [
    "AutoModel 클래스에서 사전 훈련된 모델의 가중치 로드 -> from_pretrained() 메서드 사용"
   ]
  },
  {
   "cell_type": "code",
   "execution_count": 6,
   "id": "9cfa3053",
   "metadata": {},
   "outputs": [],
   "source": [
    "from transformers import AutoModel\n",
    "import torch\n",
    "\n",
    "model_ckpt = \"distilbert-base-uncased\"\n",
    "use_mps = torch.backends.mps.is_available() and torch.backends.mps.is_built()\n",
    "device = \"mps\" if use_mps else (\"cuda\" if torch.cuda.is_available() else \"cpu\")\n",
    "model = AutoModel.from_pretrained(model_ckpt).to(device)"
   ]
  },
  {
   "cell_type": "markdown",
   "id": "96e174fb",
   "metadata": {},
   "source": [
    "사전 모델 사용 순서 \n",
    "1. Tokenizer 불러오기\n",
    "2. 문자열 인코딩  \n",
    "3. 모델에 입력해서 은닉 상태 반환 \n"
   ]
  },
  {
   "cell_type": "code",
   "execution_count": null,
   "id": "af82875f",
   "metadata": {},
   "outputs": [
    {
     "name": "stdout",
     "output_type": "stream",
     "text": [
      "입력 텐서 크기 : torch.Size([1, 6])\n",
      "outputs: BaseModelOutput(last_hidden_state=tensor([[[-0.2535, -0.1091,  0.0759,  ..., -0.1054,  0.2257,  0.4615],\n",
      "         [-0.7154, -0.2742, -0.0954,  ..., -0.3597,  0.5174,  0.3450],\n",
      "         [-0.4100, -0.2195,  0.1850,  ..., -0.0136,  0.1607,  1.0422],\n",
      "         [-0.2523, -0.0254,  0.2472,  ..., -0.1637,  0.0865,  1.0516],\n",
      "         [-0.0570, -0.1057,  0.0662,  ...,  0.0584,  0.1034,  0.2971],\n",
      "         [ 0.9184,  0.1577, -0.4105,  ...,  0.1509, -0.7327, -0.1572]]],\n",
      "       device='mps:0'), hidden_states=None, attentions=None)\n",
      "last hidden state: torch.Size([1, 6, 768])\n"
     ]
    }
   ],
   "source": [
    "# 1. tokenizer 불러오기\n",
    "from transformers import AutoTokenizer\n",
    "\n",
    "tokenizer = AutoTokenizer.from_pretrained(model_ckpt)\n",
    "\n",
    "# 2. 문자열 인코딩\n",
    "text = \"this is a text\"\n",
    "inputs = tokenizer(text, return_tensors=\"pt\")\n",
    "print(f\"입력 텐서 크기 : {inputs['input_ids'].size()}\")\n",
    "\n",
    "# 3. 모델에 입력해서 은닉상태 반환\n",
    "inputs = {k: v.to(device) for k, v in inputs.items()}\n",
    "with torch.no_grad():\n",
    "    outputs = model(**inputs)\n",
    "print(f\"outputs: {outputs}\")\n",
    "print(f\"last hidden state: {outputs.last_hidden_state.size()}\")"
   ]
  },
  {
   "cell_type": "markdown",
   "id": "c967fd49",
   "metadata": {},
   "source": []
  }
 ],
 "metadata": {
  "kernelspec": {
   "display_name": "tfm",
   "language": "python",
   "name": "python3"
  },
  "language_info": {
   "codemirror_mode": {
    "name": "ipython",
    "version": 3
   },
   "file_extension": ".py",
   "mimetype": "text/x-python",
   "name": "python",
   "nbconvert_exporter": "python",
   "pygments_lexer": "ipython3",
   "version": "3.13.7"
  }
 },
 "nbformat": 4,
 "nbformat_minor": 5
}
